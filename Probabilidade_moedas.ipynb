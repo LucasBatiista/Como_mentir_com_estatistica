{
  "nbformat": 4,
  "nbformat_minor": 0,
  "metadata": {
    "colab": {
      "name": "Probabilidade_moedas.ipynb",
      "provenance": [],
      "authorship_tag": "ABX9TyO0RKIqpOEeuB+VY6hIm209",
      "include_colab_link": true
    },
    "kernelspec": {
      "name": "python3",
      "display_name": "Python 3"
    }
  },
  "cells": [
    {
      "cell_type": "markdown",
      "metadata": {
        "id": "view-in-github",
        "colab_type": "text"
      },
      "source": [
        "<a href=\"https://colab.research.google.com/github/LucasBatiista/Como_mentir_com_estatistica/blob/main/Probabilidade_moedas.ipynb\" target=\"_parent\"><img src=\"https://colab.research.google.com/assets/colab-badge.svg\" alt=\"Open In Colab\"/></a>"
      ]
    },
    {
      "cell_type": "code",
      "metadata": {
        "id": "Asr7tnIjjG3j"
      },
      "source": [
        "import numpy as np"
      ],
      "execution_count": 106,
      "outputs": []
    },
    {
      "cell_type": "markdown",
      "metadata": {
        "id": "NuGFr8E0nB09"
      },
      "source": [
        "Para a Função considerar caras como zeros e coroas como uns"
      ]
    },
    {
      "cell_type": "code",
      "metadata": {
        "id": "iULLyctPojsD"
      },
      "source": [
        "def chance_n_rodadas_binarias(n_rodadas):\r\n",
        "  caras = 0\r\n",
        "  coroas = 0\r\n",
        "  for i in range(n_rodadas):\r\n",
        "    numero = np.random.randint(0,2)\r\n",
        "    if numero == 0:\r\n",
        "      caras = caras + 1\r\n",
        "    else:\r\n",
        "      coroas = coroas + 1\r\n",
        "    \r\n",
        "    p_caras = (caras/n_rodadas) * 100\r\n",
        "    p_coroas = (coroas/n_rodadas) * 100\r\n",
        "  return p_caras,p_coroas"
      ],
      "execution_count": 107,
      "outputs": []
    },
    {
      "cell_type": "code",
      "metadata": {
        "colab": {
          "base_uri": "https://localhost:8080/"
        },
        "id": "V9fPOa7ArtD1",
        "outputId": "6f2d29fe-98da-47c8-8309-a6f0326b18bb"
      },
      "source": [
        "print(chance_n_rodadas_binarias(10))\r\n",
        "print(chance_n_rodadas_binarias(100))\r\n",
        "print(chance_n_rodadas_binarias(1000))\r\n",
        "print(chance_n_rodadas_binarias(10000))\r\n",
        "print(chance_n_rodadas_binarias(100000))\r\n",
        "print(chance_n_rodadas_binarias(1000000))\r\n"
      ],
      "execution_count": 111,
      "outputs": [
        {
          "output_type": "stream",
          "text": [
            "(60.0, 40.0)\n",
            "(53.0, 47.0)\n",
            "(49.9, 50.1)\n",
            "(50.01, 49.99)\n",
            "(49.988, 50.012)\n",
            "(50.0419, 49.9581)\n"
          ],
          "name": "stdout"
        }
      ]
    }
  ]
}